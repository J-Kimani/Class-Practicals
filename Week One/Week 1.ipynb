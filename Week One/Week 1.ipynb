{
 "cells": [
  {
   "cell_type": "markdown",
   "id": "1a26f505",
   "metadata": {},
   "source": [
    "# Week 1 — Monday Practical (4 hours)\n",
    "\n",
    "**Theme:**  \n",
    "Exploring variables, descriptive summaries, and basic probability distributions.\n",
    "\n",
    "**Tools:**  \n",
    "- By hand  \n",
    "- Excel  \n",
    "- Python (`pandas`, `scipy`)  \n",
    "- R (`base`, `stats`)\n",
    "\n",
    "**Datasets (download before class):**\n",
    "\n",
    "- **Gapminder (country-level):**  \n",
    "    [Kaggle: Gapminder Data](https://www.kaggle.com/datasets/raj713335/gapminder-data)\n",
    "\n",
    "- **Iris dataset:**  \n",
    "    [UCI Repository](https://archive.ics.uci.edu/ml/datasets/iris)  \n",
    "    [Kaggle: Iris Dataset](https://www.kaggle.com/datasets/uciml/iris)\n",
    "\n",
    "- **AirPassengers:**  \n",
    "    Built-in R dataset; accessible in Python via `statsmodels`"
   ]
  },
  {
   "cell_type": "markdown",
   "id": "10b68168",
   "metadata": {},
   "source": [
    "### Example 1 — Classifying Variables (Gapminder) *(45 min)*\n",
    "\n",
    "**Task:**  \n",
    "For the Gapminder dataset, classify variables as *categorical* or *numerical*, and as *discrete* or *continuous*.  \n",
    "Create a two-column table: **Variable** | **Type**\n",
    "\n",
    "---\n",
    "\n",
    "#### By Hand (Example Answers)\n",
    "\n",
    "| Variable       | Type                                              |\n",
    "|----------------|---------------------------------------------------|\n",
    "| country        | Categorical (Nominal)                             |\n",
    "| region         | Categorical (Nominal)                             |\n",
    "| income         | Numerical (Continuous, float64)                   |\n",
    "| income_level   | Categorical (Ordinal)|\n",
    "| life_exp       | Numerical (Continuous, float64)                   |\n",
    "| co2            | Numerical (Continuous, float64)                   |\n",
    "| co2_change     | Categorical (Nominal) |\n",
    "| population     | Numerical (Discrete, Counts)  |\n",
    "\n",
    "---\n",
    "\n",
    "#### Excel\n",
    "\n",
    "1. Open `gapminder.csv`.\n",
    "2. Review column values.\n",
    "3. Create a new sheet with columns: **Variable** and **Type**. Fill in types manually.\n",
    "4. *(Optional)* Use **Data → Text to Columns** or **Format Cells** to check numeric vs text."
   ]
  },
  {
   "cell_type": "code",
   "execution_count": 3,
   "id": "13b58b6c",
   "metadata": {},
   "outputs": [
    {
     "data": {
      "text/plain": [
       "country          object\n",
       "region           object\n",
       "income          float64\n",
       "income_level     object\n",
       "life_exp        float64\n",
       "co2             float64\n",
       "co2_change       object\n",
       "population      float64\n",
       "dtype: object"
      ]
     },
     "execution_count": 3,
     "metadata": {},
     "output_type": "execute_result"
    }
   ],
   "source": [
    "import pandas as pd\n",
    "df = pd.read_csv(\"gapminder.csv\")\n",
    "df.dtypes\n",
    "\n"
   ]
  },
  {
   "cell_type": "markdown",
   "id": "64f1a499",
   "metadata": {},
   "source": [
    "### Example 2 — Descriptive Summary (Iris: Sepal.Length) — 70 min\n",
    "\n",
    "**Task:**  \n",
    "Use the first 10 Sepal.Length values (do the by-hand quick calculations) and then compute full-sample summaries in Excel / Python / R. Compare.\n",
    "\n",
    "---\n",
    "\n",
    "#### First 10 Sepal.Length values (Iris; used for by-hand):\n",
    "\n",
    "`5.1, 4.9, 4.7, 4.6, 5.0, 5.4, 4.6, 5.0, 4.4, 4.9`\n",
    "\n",
    "---\n",
    "\n",
    "#### By hand — required outputs  \n",
    "*(Teacher-provided answers shown so you can mark quickly)*\n",
    "\n",
    "| Statistic                | Value         |\n",
    "|--------------------------|--------------|\n",
    "| **Mean**                 | 4.86         |\n",
    "| **Median**               | 4.9          |\n",
    "| **Mode**                 | 4.9, 4.6, 5.0 (multimodal) |\n",
    "| **Range**                | 1.0          |\n",
    "| **Sample variance**      | 0.0849 (≈0.085) |\n",
    "| **Sample std. deviation**| 0.2914 (≈0.291) |\n",
    "| **Q1**                   | 4.625        |\n",
    "| **Q2 (Median)**          | 4.9          |\n",
    "| **Q3**                   | 5.0          |\n",
    "| **IQR**                  | 0.375        |\n",
    "\n",
    "> Use these rounded answers to check student hand work.\n",
    "\n",
    "---\n",
    "\n",
    "#### Excel\n",
    "\n",
    "Load `iris.csv`. For **Sepal.Length** column (assume it's in column B):\n",
    "\n",
    "- `=AVERAGE(B2:B151)`\n",
    "- `=MEDIAN(B2:B151)`\n",
    "- `=MODE.SNGL(B2:B151)` *(or `=MODE.MULT` for all modes)*\n",
    "- `=MAX(B2:B151)-MIN(B2:B151)`\n",
    "- `=VAR.S(B2:B151)`\n",
    "- `=STDEV.S(B2:B151)`\n",
    "- `=QUARTILE.INC(B2:B151,1)`"
   ]
  },
  {
   "cell_type": "code",
   "execution_count": 2,
   "id": "3a5da79c",
   "metadata": {},
   "outputs": [
    {
     "data": {
      "text/html": [
       "<div>\n",
       "<style scoped>\n",
       "    .dataframe tbody tr th:only-of-type {\n",
       "        vertical-align: middle;\n",
       "    }\n",
       "\n",
       "    .dataframe tbody tr th {\n",
       "        vertical-align: top;\n",
       "    }\n",
       "\n",
       "    .dataframe thead th {\n",
       "        text-align: right;\n",
       "    }\n",
       "</style>\n",
       "<table border=\"1\" class=\"dataframe\">\n",
       "  <thead>\n",
       "    <tr style=\"text-align: right;\">\n",
       "      <th></th>\n",
       "      <th>Id</th>\n",
       "      <th>SepalLengthCm</th>\n",
       "      <th>SepalWidthCm</th>\n",
       "      <th>PetalLengthCm</th>\n",
       "      <th>PetalWidthCm</th>\n",
       "      <th>Species</th>\n",
       "    </tr>\n",
       "  </thead>\n",
       "  <tbody>\n",
       "    <tr>\n",
       "      <th>0</th>\n",
       "      <td>1</td>\n",
       "      <td>5.1</td>\n",
       "      <td>3.5</td>\n",
       "      <td>1.4</td>\n",
       "      <td>0.2</td>\n",
       "      <td>Iris-setosa</td>\n",
       "    </tr>\n",
       "    <tr>\n",
       "      <th>1</th>\n",
       "      <td>2</td>\n",
       "      <td>4.9</td>\n",
       "      <td>3.0</td>\n",
       "      <td>1.4</td>\n",
       "      <td>0.2</td>\n",
       "      <td>Iris-setosa</td>\n",
       "    </tr>\n",
       "    <tr>\n",
       "      <th>2</th>\n",
       "      <td>3</td>\n",
       "      <td>4.7</td>\n",
       "      <td>3.2</td>\n",
       "      <td>1.3</td>\n",
       "      <td>0.2</td>\n",
       "      <td>Iris-setosa</td>\n",
       "    </tr>\n",
       "    <tr>\n",
       "      <th>3</th>\n",
       "      <td>4</td>\n",
       "      <td>4.6</td>\n",
       "      <td>3.1</td>\n",
       "      <td>1.5</td>\n",
       "      <td>0.2</td>\n",
       "      <td>Iris-setosa</td>\n",
       "    </tr>\n",
       "    <tr>\n",
       "      <th>4</th>\n",
       "      <td>5</td>\n",
       "      <td>5.0</td>\n",
       "      <td>3.6</td>\n",
       "      <td>1.4</td>\n",
       "      <td>0.2</td>\n",
       "      <td>Iris-setosa</td>\n",
       "    </tr>\n",
       "  </tbody>\n",
       "</table>\n",
       "</div>"
      ],
      "text/plain": [
       "   Id  SepalLengthCm  SepalWidthCm  PetalLengthCm  PetalWidthCm      Species\n",
       "0   1            5.1           3.5            1.4           0.2  Iris-setosa\n",
       "1   2            4.9           3.0            1.4           0.2  Iris-setosa\n",
       "2   3            4.7           3.2            1.3           0.2  Iris-setosa\n",
       "3   4            4.6           3.1            1.5           0.2  Iris-setosa\n",
       "4   5            5.0           3.6            1.4           0.2  Iris-setosa"
      ]
     },
     "execution_count": 2,
     "metadata": {},
     "output_type": "execute_result"
    }
   ],
   "source": [
    "import pandas as pd\n",
    "df2 = pd.read_csv(\"iris.csv\")\n",
    "df2.head()"
   ]
  },
  {
   "cell_type": "code",
   "execution_count": 3,
   "id": "999f229a",
   "metadata": {},
   "outputs": [
    {
     "name": "stdout",
     "output_type": "stream",
     "text": [
      "5.843333333333334 5.8 0    5.0\n",
      "Name: SepalLengthCm, dtype: float64\n",
      "0.6856935123042505 0.8280661279778629\n",
      "0.25    5.1\n",
      "0.50    5.8\n",
      "0.75    6.4\n",
      "Name: SepalLengthCm, dtype: float64\n",
      "3.6000000000000005\n"
     ]
    }
   ],
   "source": [
    "\n",
    "x = df2[\"SepalLengthCm\"]\n",
    "print(x.mean(), x.median(), x.mode())\n",
    "print(x.var(ddof=1), x.std(ddof=1))\n",
    "print(x.quantile([0.25,0.5,0.75]))\n",
    "print(x.max()-x.min())\n"
   ]
  },
  {
   "cell_type": "code",
   "execution_count": 15,
   "id": "deb62ec4",
   "metadata": {},
   "outputs": [
    {
     "name": "stdout",
     "output_type": "stream",
     "text": [
      "4.859999999999999 4.9 0    4.6\n",
      "1    4.9\n",
      "2    5.0\n",
      "Name: SepalLengthCm, dtype: float64\n",
      "0.08488888888888892 0.29135697844549546\n",
      "0.25    4.625\n",
      "0.50    4.900\n",
      "0.75    5.000\n",
      "Name: SepalLengthCm, dtype: float64\n",
      "1.0\n"
     ]
    }
   ],
   "source": [
    "# for the first 10 rows only\n",
    "\n",
    "x = df2[\"SepalLengthCm\"].iloc[:10]\n",
    "print(x.mean(), x.median(), x.mode())\n",
    "print(x.var(ddof=1), x.std(ddof=1))\n",
    "print(x.quantile([0.25,0.5,0.75]))\n",
    "print(x.max()-x.min())\n"
   ]
  },
  {
   "cell_type": "markdown",
   "id": "b38b0e0b",
   "metadata": {},
   "source": [
    "### Example 3 — Probability Distributions (Bernoulli / Binomial / Poisson / Normal)\n",
    "\n",
    "**Goal:**  \n",
    "Solve the same probability problems by hand, then verify in Excel / Python / R.\n",
    "\n",
    "---\n",
    "\n",
    "#### 3A — Bernoulli (Simple)\n",
    "\n",
    "**Scenario:**  \n",
    "Probability a student attends class:  \n",
    "\\( p = 0.7 \\)\n",
    "\n",
    "**By hand:**  \n",
    "- \\( E(X) = p = 0.7 \\)\n",
    "- \\(Var(X) = p(1-p) = 0.7 \\times 0.3 = 0.21 \\)\n",
    "\n",
    "**Excel:**  \n",
    "`=BINOM.DIST(1, 1, 0.7, FALSE)` returns \\( P(X=1) \\)"
   ]
  },
  {
   "cell_type": "code",
   "execution_count": 20,
   "id": "7ce1ef25",
   "metadata": {},
   "outputs": [
    {
     "data": {
      "text/plain": [
       "0.7"
      ]
     },
     "execution_count": 20,
     "metadata": {},
     "output_type": "execute_result"
    }
   ],
   "source": [
    "from scipy.stats import bernoulli\n",
    "bernoulli.pmf(1, 0.7)"
   ]
  },
  {
   "cell_type": "code",
   "execution_count": 17,
   "id": "6095a845",
   "metadata": {},
   "outputs": [
    {
     "name": "stdout",
     "output_type": "stream",
     "text": [
      "E = 0.7 Var = 0.21000000000000002\n"
     ]
    }
   ],
   "source": [
    "# Bernoulli expectation and variance in Python\n",
    "p = 0.7\n",
    "E = p\n",
    "Var = p * (1 - p)\n",
    "print(\"E =\", E, \"Var =\", Var)"
   ]
  },
  {
   "attachments": {
    "image.png": {
     "image/png": "[encoded data removed]"
    }
   },
   "cell_type": "markdown",
   "id": "075d1242",
   "metadata": {},
   "source": [
    "### 3B — Binomial\n",
    "\n",
    "**Scenario:**  \n",
    "10 students take a test, passing probability \\( p = 0.6 \\).  \n",
    "Find \\( P(X = 7) \\).\n",
    "\n",
    "\n",
    "![image.png](attachment:image.png)"
   ]
  },
  {
   "cell_type": "code",
   "execution_count": 19,
   "id": "f586d12c",
   "metadata": {},
   "outputs": [
    {
     "data": {
      "text/plain": [
       "0.21499084799999976"
      ]
     },
     "execution_count": 19,
     "metadata": {},
     "output_type": "execute_result"
    }
   ],
   "source": [
    "from scipy.stats import binom\n",
    "binom.pmf(7,10,0.6)"
   ]
  },
  {
   "attachments": {
    "image.png": {
     "image/png": "[encoded data removed]"
    }
   },
   "cell_type": "markdown",
   "id": "d7544894",
   "metadata": {},
   "source": [
    "### 3C — Poisson\n",
    "\n",
    "**Scenario:**  \n",
    "On average, 5 arrivals per 10 minutes (λ=5).  \n",
    "Find P(X = 3).\n",
    "\n",
    "\n",
    "![image.png](attachment:image.png)\n"
   ]
  },
  {
   "cell_type": "code",
   "execution_count": 21,
   "id": "3e94b357",
   "metadata": {},
   "outputs": [
    {
     "data": {
      "text/plain": [
       "0.1403738958142805"
      ]
     },
     "execution_count": 21,
     "metadata": {},
     "output_type": "execute_result"
    }
   ],
   "source": [
    "from scipy.stats import poisson\n",
    "poisson.pmf(3,5)"
   ]
  },
  {
   "attachments": {
    "image.png": {
     "image/png": "[encoded data removed]"
    }
   },
   "cell_type": "markdown",
   "id": "d9c70950",
   "metadata": {},
   "source": [
    "### 3D — Normal (z-score)\n",
    "\n",
    "**Scenario:**  \n",
    "Heights are distributed as  N(170, 10^2).  \n",
    "Find P(X > 180).\n",
    "\n",
    "![image.png](attachment:image.png)\n",
    "\n"
   ]
  },
  {
   "cell_type": "code",
   "execution_count": 23,
   "id": "3d3239ac",
   "metadata": {},
   "outputs": [
    {
     "data": {
      "text/plain": [
       "0.15865525393145707"
      ]
     },
     "execution_count": 23,
     "metadata": {},
     "output_type": "execute_result"
    }
   ],
   "source": [
    "from scipy.stats import norm\n",
    "1-norm.cdf(180,170,10)"
   ]
  }
 ],
 "metadata": {
  "kernelspec": {
   "display_name": "base",
   "language": "python",
   "name": "python3"
  },
  "language_info": {
   "codemirror_mode": {
    "name": "ipython",
    "version": 3
   },
   "file_extension": ".py",
   "mimetype": "text/x-python",
   "name": "python",
   "nbconvert_exporter": "python",
   "pygments_lexer": "ipython3",
   "version": "3.12.3"
  }
 },
 "nbformat": 4,
 "nbformat_minor": 5
}
